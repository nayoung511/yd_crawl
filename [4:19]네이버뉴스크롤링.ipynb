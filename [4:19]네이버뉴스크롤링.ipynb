{
 "cells": [
  {
   "cell_type": "code",
   "execution_count": 6,
   "metadata": {},
   "outputs": [],
   "source": [
    "import time\n",
    "from selenium import webdriver\n",
    "from selenium.webdriver.common.by import By\n"
   ]
  },
  {
   "cell_type": "code",
   "execution_count": 7,
   "metadata": {},
   "outputs": [],
   "source": [
    "browser = webdriver.Chrome()\n",
    "\n",
    "url = 'https://news.naver.com/main/list.naver?mode=LS2D&mid=shm&sid1=101&sid2=259'\n",
    "\n",
    "browser.get(url)"
   ]
  },
  {
   "cell_type": "code",
   "execution_count": 8,
   "metadata": {},
   "outputs": [
    {
     "name": "stdout",
     "output_type": "stream",
     "text": [
      "KB손해보험 등 KB금융그룹 내 5개 계열사가 소방산업 발전 기여를 위해 소방산업공제조합과 소방산업 발전 및 공제사업 활성화를 …\n",
      "추경호 경제부총리는 최근 가속화되고 있는 경제분절화와 관련해 범정부 차원에 사전점검·대응체계를 운영하고 있다며 '경제안보공급망 …\n",
      "생명보험사회공헌위원회는 19일 전국 산불 피해지역 복구 및 이재민 지원을 위해 대한적십자사를 통해 5000만원을 전달했다. 정희 …\n",
      "중국 춘추시대 정(鄭) 나라에 자산(子産) 이란 명재상이 있었습니다. 공자(孔子)도 깊은 존경을 밝힌 인물입니다. 당시 정나라는 …\n",
      "교보생명이 중소기업벤처부 주관 기술창업투자 프로그램 '팁스' 운영사로 선정됐다고 19일 밝혔다. 팁스는 중소벤처기업부와 한국엔젤 …\n",
      "침체된 반도체 경기가 하반기에는 개선될 가능성이 높지만 회복 시점과 속도의 불확실성은 여전히 크다는 분석이 나왔다. 한국은행 조 …\n",
      "기사내용 요약 6월 중 최종 합격자 발표 금융투자협회는 올해 신입직원 공개채용을 실시한다고 19일 밝혔다. 채용부문은 ▲일반(경 …\n",
      "하나은행은 개인사업자를 위한 전용 모바일 플랫폼인 '사장님ON'의 금융 및 비금융 서비스를 확대한다고 19일 밝혔다. '사장님O …\n",
      "KB국민은행은 택시호출 플랫폼 우티(UT)와 함께 음주운전 예방 캠페인을 실시한다고 19일 밝혔다. 국민은행은 지난해 9월 티맵 …\n",
      "카카오뱅크는 세계 최대 규모의 사이버 방어 훈련인 ‘락드쉴즈(Locked Shields) 2023’에 대한민국 연합팀 일원으로 …\n",
      "DB손해보험(대표 정종표)은 지난 10일 의료소모품 쇼핑몰 '의사나라' 운영회사인 한국엠바이오(대표 구본훈)와 신규 의료배상책임 …\n",
      "국내 대형 시중은행들의 해외 유가증권 투자 수익률이 일제히 하강 곡선을 그린 것으로 나타났다. 다른 부문의 자산운용 효율이 전반 …\n",
      "하나은행이 개인사업자를 위한 전용 모바일 플랫폼 '사장님온(ON)'을 통해 차별화된 금융 및 비금융 서비스를 제공한다. 사장님O …\n",
      "기사내용 요약 DWS자산운용, 6292억원에 매각 마스턴투자운용이 광화문 지역을 대표하는 콘코디언 빌딩 인수를 확정했다고 19일 …\n",
      "19일 서울시 중구 농협중앙회 본관에서 박홍진 현대그린푸드 사장(왼쪽)과 우성태 농협경제지주 대표가 국산 농식품 판로 확대를 위 …\n",
      "18일 미국 주요지수 흐름 엇갈려 ‘삼성과 결별설’ 구글 연일 하락 넷플릭스 매출 기대 소폭 밑돌아 골드만삭스 실적 부진·BoA …\n",
      "케이뱅크가 자동차보험료를 조회하면 모바일상품권 1만원을 지급하는 이벤트를 실시한다. 케이뱅크는 DB손해보험과 제휴를 맺고 다이렉 …\n",
      "올해 1분기 파생결합증권(DLS) 미상환 발행잔액이 증가한 것으로 나타났다. 한국예탁결제원은 지난 달 말 기준 DLS 미상환 발 …\n",
      "Sh수협은행은 부경대에 '해양·수산 전문인력 양성 및 연구활동 지원'을 위한 학교 발전기금 3억원을 전달했다고 18일 밝혔다. …\n",
      "모바일 금융 서비스 ‘토스'를 운영하는 비바리퍼블리카(이하 토스)는 어린이·청소년용 선불 카드인 ‘유스카드(USS card)’ …\n"
     ]
    }
   ],
   "source": [
    "# 뉴스 제목, 뉴스 내용, 언론사\n",
    "\n",
    "contents = browser.find_elements(By.CLASS_NAME, 'lede')\n",
    "\n",
    "for i in contents:\n",
    "    print(i.text)"
   ]
  },
  {
   "cell_type": "code",
   "execution_count": 14,
   "metadata": {},
   "outputs": [
    {
     "name": "stdout",
     "output_type": "stream",
     "text": [
      "Requirement already satisfied: pandas in /opt/homebrew/Caskroom/miniconda/base/envs/yeardream/lib/python3.9/site-packages (2.0.0)\n",
      "Requirement already satisfied: pytz>=2020.1 in /opt/homebrew/Caskroom/miniconda/base/envs/yeardream/lib/python3.9/site-packages (from pandas) (2022.7)\n",
      "Requirement already satisfied: python-dateutil>=2.8.2 in /opt/homebrew/Caskroom/miniconda/base/envs/yeardream/lib/python3.9/site-packages (from pandas) (2.8.2)\n",
      "Requirement already satisfied: tzdata>=2022.1 in /opt/homebrew/Caskroom/miniconda/base/envs/yeardream/lib/python3.9/site-packages (from pandas) (2023.3)\n",
      "Requirement already satisfied: numpy>=1.20.3 in /opt/homebrew/Caskroom/miniconda/base/envs/yeardream/lib/python3.9/site-packages (from pandas) (1.24.2)\n",
      "Requirement already satisfied: six>=1.5 in /opt/homebrew/Caskroom/miniconda/base/envs/yeardream/lib/python3.9/site-packages (from python-dateutil>=2.8.2->pandas) (1.16.0)\n",
      "Note: you may need to restart the kernel to use updated packages.\n"
     ]
    }
   ],
   "source": [
    "pip install pandas"
   ]
  },
  {
   "cell_type": "code",
   "execution_count": 15,
   "metadata": {},
   "outputs": [],
   "source": [
    "import pandas as pd"
   ]
  },
  {
   "cell_type": "code",
   "execution_count": 16,
   "metadata": {},
   "outputs": [],
   "source": [
    "# 할머니\n",
    "table = browser.find_element(By.CLASS_NAME, 'list_body')\n",
    "\n",
    "table\n",
    "\n",
    "# 엄마\n",
    "\n",
    "datas = table.find_elements(By.TAG_NAME, 'li')\n",
    "\n",
    "data_list = []\n",
    "for i in datas:\n",
    "    link = i.find_element(By.TAG_NAME, 'a').get_attribute('href')\n",
    "    \n",
    "    title = i.find_element(By.TAG_NAME, 'img').get_attribute('alt')\n",
    "    \n",
    "    content = i.find_element(By.CLASS_NAME, 'lede').text\n",
    "    \n",
    "    data = {\n",
    "        \"title\" : title,\n",
    "        \"content\" : content,\n",
    "        \"link\" : link\n",
    "    }\n",
    "\n",
    "    data_list.append(data)\n",
    "\n",
    "df = pd.DataFrame(data_list)\n",
    "df.to_csv(\"./naver_news.csv\", encoding = \"utf-8-sig\") # csv파일 저장"
   ]
  },
  {
   "cell_type": "code",
   "execution_count": null,
   "metadata": {},
   "outputs": [],
   "source": []
  }
 ],
 "metadata": {
  "kernelspec": {
   "display_name": "yeardream",
   "language": "python",
   "name": "python3"
  },
  "language_info": {
   "codemirror_mode": {
    "name": "ipython",
    "version": 3
   },
   "file_extension": ".py",
   "mimetype": "text/x-python",
   "name": "python",
   "nbconvert_exporter": "python",
   "pygments_lexer": "ipython3",
   "version": "3.9.16"
  },
  "orig_nbformat": 4
 },
 "nbformat": 4,
 "nbformat_minor": 2
}
