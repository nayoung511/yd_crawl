{
 "cells": [
  {
   "cell_type": "code",
   "execution_count": 82,
   "metadata": {},
   "outputs": [],
   "source": [
    "import time\n",
    "import random\n",
    "from selenium import webdriver\n",
    "from selenium.webdriver.common.keys import Keys\n",
    "from selenium.webdriver.support.ui import WebDriverWait\n",
    "from selenium.webdriver.support import expected_conditions as EC\n",
    "from selenium.webdriver.common.by import By"
   ]
  },
  {
   "cell_type": "code",
   "execution_count": 83,
   "metadata": {},
   "outputs": [],
   "source": [
    "browser = webdriver.Chrome()"
   ]
  },
  {
   "cell_type": "markdown",
   "metadata": {},
   "source": []
  },
  {
   "cell_type": "code",
   "execution_count": 84,
   "metadata": {},
   "outputs": [],
   "source": [
    "# 앱 검색\n",
    "\n",
    "app_name = input(\"댓글을 가져오고자 하는 앱 이름을 입력하세요\")\n",
    "\n",
    "url = \"https://play.google.com/store/search?q={}&c=apps\"\n",
    "\n",
    "search_url = url.format(app_name)\n",
    "browser.get(search_url)\n"
   ]
  },
  {
   "cell_type": "code",
   "execution_count": 85,
   "metadata": {},
   "outputs": [],
   "source": [
    "# 앱 링크로 이동\n",
    "\n",
    "app_url = browser.find_element(By.CLASS_NAME, 'Qfxief').get_attribute('href')\n",
    "\n",
    "browser.get(app_url)"
   ]
  },
  {
   "cell_type": "code",
   "execution_count": 86,
   "metadata": {},
   "outputs": [],
   "source": [
    "# 댓글 클릭\n",
    "browser.find_element(By.XPATH, ' //*[@id=\"yDmH0d\"]/c-wiz[2]/div/div/div[1]/div[2]/div/div[1]/c-wiz[4]/section/header/div/div[2]/button').click()"
   ]
  },
  {
   "cell_type": "code",
   "execution_count": 87,
   "metadata": {},
   "outputs": [],
   "source": [
    "# 모달창 클릭 (목적: 스크롤을 하기 위해서)\n",
    "browser.find_element(By.CLASS_NAME, 'fysCi').click()"
   ]
  },
  {
   "cell_type": "code",
   "execution_count": 88,
   "metadata": {},
   "outputs": [],
   "source": [
    "modal = browser.find_element(By.CLASS_NAME, 'fysCi')\n",
    "\n",
    "for i in range(3):\n",
    "    browser.execute_script(\"arguments[0].scrollTo(0, arguments[0].scrollHeight)\", modal)\n",
    "    time.sleep(2)\n"
   ]
  },
  {
   "cell_type": "code",
   "execution_count": 90,
   "metadata": {},
   "outputs": [],
   "source": [
    "import pandas as pd"
   ]
  },
  {
   "cell_type": "code",
   "execution_count": 93,
   "metadata": {},
   "outputs": [],
   "source": [
    "reviews = browser.find_elements(By.CLASS_NAME, 'RHo1pe')\n",
    "\n",
    "num_review = 0\n",
    "data_list = []\n",
    "for review in reviews:\n",
    "    num_review += 1\n",
    "    if num_review == 100:\n",
    "        break\n",
    "    \n",
    "    user_name = review.find_element(By.CLASS_NAME, 'X5PpBb').text\n",
    "\n",
    "    rating = review.find_element(By.CLASS_NAME, 'iXRFPc').get_attribute('aria-label')[10]\n",
    "\n",
    "    date = review.find_element(By.CLASS_NAME, 'bp9Aid').text\n",
    "\n",
    "    content = review.find_element(By.CLASS_NAME, 'h3YV2d').text\n",
    "\n",
    "    data = {\n",
    "        \"닉네임\" : user_name,\n",
    "        \"댓글내용\" : content,\n",
    "        \"평점\" : rating,\n",
    "        \"작성시간\" : date\n",
    "    }\n",
    "\n",
    "    data_list.append(data)\n",
    "\n",
    "df = pd.DataFrame(data_list)\n",
    "df.to_csv(\"google_comment.csv\", encoding='utf-8-sig')"
   ]
  },
  {
   "cell_type": "markdown",
   "metadata": {},
   "source": []
  },
  {
   "cell_type": "code",
   "execution_count": null,
   "metadata": {},
   "outputs": [],
   "source": []
  }
 ],
 "metadata": {
  "kernelspec": {
   "display_name": "yeardream",
   "language": "python",
   "name": "python3"
  },
  "language_info": {
   "codemirror_mode": {
    "name": "ipython",
    "version": 3
   },
   "file_extension": ".py",
   "mimetype": "text/x-python",
   "name": "python",
   "nbconvert_exporter": "python",
   "pygments_lexer": "ipython3",
   "version": "3.9.16"
  },
  "orig_nbformat": 4
 },
 "nbformat": 4,
 "nbformat_minor": 2
}
